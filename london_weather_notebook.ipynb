{
 "cells": [
  {
   "cell_type": "markdown",
   "id": "21503acd-6cbf-40a4-ad05-853a5da28fb7",
   "metadata": {},
   "source": [
    "# Developing a Predictive Machine Learning Pipeline for London's Climate\r\n",
    "\r\n",
    "As climate change continues to affect global weather patterns, accurate weather prediction has become increasingly vital for businesses. This project focuses on supporting the development of a machine learning pipeline to forecast the climate in London, England, with a specific emphasis on predicting the mean temperature in degrees Celsius (°C).\r\n",
    "\r\n",
    "Given the complex nature of weather prediction, numerous experiments must be conducted to identify the most effective approach. The project entails experimenting with various regression models to predict mean temperature, leveraging a combination of sklearn and mlflow.\r\n",
    "\r\n",
    "The dataset for this project, stored in \"london_weather.csv,\" includes the following columns:\r\n",
    "- **date** - the recorded date of measurement (**int**)\r\n",
    "- **cloud_cover** - cloud cover in oktas (**float**)\r\n",
    "- **sunshine** - sunshine duration in hours (hrs) (**float**)\r\n",
    "- **global_radiation** - irradiance in Watts per square meter (W/m²) (**float**)\r\n",
    "- **max_temp** - maximum temperature in degrees Celsius (°C) (**float**)\r\n",
    "- **mean_temp** - **target** variable, mean temperature in degrees Celsius (°C) (**float**)\r\n",
    "- **min_temp** - minimum temperature in degrees Celsius (°C) (**float**)\r\n",
    "- **precipitation** - precipitation in millimeters (mm) (**float**)\r\n",
    "- **pressure** - atmospheric pressure in Pascals (Pa) (**float**)\r\n",
    "- **snow_depth** - snow depth in centimeters (cm) (**float**)"
   ]
  },
  {
   "cell_type": "code",
   "execution_count": 119,
   "id": "3fac012d-6719-43dc-bf15-e152678e86d9",
   "metadata": {
    "executionCancelledAt": null,
    "executionTime": 5660,
    "lastExecutedAt": 1713709450300,
    "lastExecutedByKernel": "1de5700a-3bf2-4a3a-a17d-4556323fe991",
    "lastScheduledRunId": null,
    "lastSuccessfullyExecutedCode": "# Run this cell to install mlflow\n!pip install mlflow",
    "outputsMetadata": {
     "0": {
      "height": 616,
      "type": "stream"
     }
    }
   },
   "outputs": [
    {
     "name": "stdout",
     "output_type": "stream",
     "text": [
      "Defaulting to user installation because normal site-packages is not writeable\n",
      "Requirement already satisfied: mlflow in /usr/local/lib/python3.8/dist-packages (2.8.1)\n",
      "Requirement already satisfied: click<9,>=7.0 in /usr/local/lib/python3.8/dist-packages (from mlflow) (8.1.3)\n",
      "Requirement already satisfied: cloudpickle<3 in /usr/local/lib/python3.8/dist-packages (from mlflow) (2.1.0)\n",
      "Requirement already satisfied: databricks-cli<1,>=0.8.7 in /usr/local/lib/python3.8/dist-packages (from mlflow) (0.17.6)\n",
      "Requirement already satisfied: entrypoints<1 in /usr/local/lib/python3.8/dist-packages (from mlflow) (0.4)\n",
      "Requirement already satisfied: gitpython<4,>=2.1.0 in /usr/local/lib/python3.8/dist-packages (from mlflow) (3.1.27)\n",
      "Requirement already satisfied: pyyaml<7,>=5.1 in /usr/local/lib/python3.8/dist-packages (from mlflow) (6.0.1)\n",
      "Requirement already satisfied: protobuf<5,>=3.12.0 in /usr/local/lib/python3.8/dist-packages (from mlflow) (3.19.4)\n",
      "Requirement already satisfied: pytz<2024 in /usr/local/lib/python3.8/dist-packages (from mlflow) (2022.7)\n",
      "Requirement already satisfied: requests<3,>=2.17.3 in /usr/local/lib/python3.8/dist-packages (from mlflow) (2.31.0)\n",
      "Requirement already satisfied: packaging<24 in /usr/local/lib/python3.8/dist-packages (from mlflow) (21.3)\n",
      "Requirement already satisfied: importlib-metadata!=4.7.0,<7,>=3.7.0 in /usr/local/lib/python3.8/dist-packages (from mlflow) (6.8.0)\n",
      "Requirement already satisfied: sqlparse<1,>=0.4.0 in /usr/local/lib/python3.8/dist-packages (from mlflow) (0.4.3)\n",
      "Requirement already satisfied: alembic!=1.10.0,<2 in /usr/local/lib/python3.8/dist-packages (from mlflow) (1.12.1)\n",
      "Requirement already satisfied: docker<7,>=4.0.0 in /usr/local/lib/python3.8/dist-packages (from mlflow) (5.0.3)\n",
      "Requirement already satisfied: Flask<4 in /usr/local/lib/python3.8/dist-packages (from mlflow) (2.2.2)\n",
      "Requirement already satisfied: numpy<2 in /usr/local/lib/python3.8/dist-packages (from mlflow) (1.23.2)\n",
      "Requirement already satisfied: scipy<2 in /usr/local/lib/python3.8/dist-packages (from mlflow) (1.9.0)\n",
      "Requirement already satisfied: pandas<3 in /usr/local/lib/python3.8/dist-packages (from mlflow) (1.5.1)\n",
      "Requirement already satisfied: querystring-parser<2 in /usr/local/lib/python3.8/dist-packages (from mlflow) (1.2.4)\n",
      "Requirement already satisfied: sqlalchemy<3,>=1.4.0 in /usr/local/lib/python3.8/dist-packages (from mlflow) (1.4.40)\n",
      "Requirement already satisfied: scikit-learn<2 in /usr/local/lib/python3.8/dist-packages (from mlflow) (1.2.2)\n",
      "Requirement already satisfied: pyarrow<15,>=4.0.0 in /usr/local/lib/python3.8/dist-packages (from mlflow) (7.0.0)\n",
      "Requirement already satisfied: markdown<4,>=3.3 in /usr/local/lib/python3.8/dist-packages (from mlflow) (3.4.1)\n",
      "Requirement already satisfied: matplotlib<4 in /usr/local/lib/python3.8/dist-packages (from mlflow) (3.6.3)\n",
      "Requirement already satisfied: gunicorn<22 in /usr/local/lib/python3.8/dist-packages (from mlflow) (21.2.0)\n",
      "Requirement already satisfied: Jinja2<4,>=2.11 in /usr/local/lib/python3.8/dist-packages (from mlflow) (3.1.2)\n",
      "Requirement already satisfied: Mako in /usr/local/lib/python3.8/dist-packages (from alembic!=1.10.0,<2->mlflow) (1.3.0)\n",
      "Requirement already satisfied: typing-extensions>=4 in /usr/local/lib/python3.8/dist-packages (from alembic!=1.10.0,<2->mlflow) (4.9.0)\n",
      "Requirement already satisfied: importlib-resources in /usr/local/lib/python3.8/dist-packages (from alembic!=1.10.0,<2->mlflow) (5.10.0)\n",
      "Requirement already satisfied: pyjwt>=1.7.0 in /usr/local/lib/python3.8/dist-packages (from databricks-cli<1,>=0.8.7->mlflow) (2.1.0)\n",
      "Requirement already satisfied: oauthlib>=3.1.0 in /usr/local/lib/python3.8/dist-packages (from databricks-cli<1,>=0.8.7->mlflow) (3.2.0)\n",
      "Requirement already satisfied: tabulate>=0.7.7 in /usr/local/lib/python3.8/dist-packages (from databricks-cli<1,>=0.8.7->mlflow) (0.8.10)\n",
      "Requirement already satisfied: six>=1.10.0 in /usr/lib/python3/dist-packages (from databricks-cli<1,>=0.8.7->mlflow) (1.14.0)\n",
      "Requirement already satisfied: websocket-client>=0.32.0 in /usr/local/lib/python3.8/dist-packages (from docker<7,>=4.0.0->mlflow) (1.4.0)\n",
      "Requirement already satisfied: Werkzeug>=2.2.2 in /usr/local/lib/python3.8/dist-packages (from Flask<4->mlflow) (2.2.2)\n",
      "Requirement already satisfied: itsdangerous>=2.0 in /usr/local/lib/python3.8/dist-packages (from Flask<4->mlflow) (2.1.2)\n",
      "Requirement already satisfied: gitdb<5,>=4.0.1 in /usr/local/lib/python3.8/dist-packages (from gitpython<4,>=2.1.0->mlflow) (4.0.9)\n",
      "Requirement already satisfied: zipp>=0.5 in /usr/local/lib/python3.8/dist-packages (from importlib-metadata!=4.7.0,<7,>=3.7.0->mlflow) (3.8.1)\n",
      "Requirement already satisfied: MarkupSafe>=2.0 in /usr/local/lib/python3.8/dist-packages (from Jinja2<4,>=2.11->mlflow) (2.1.1)\n",
      "Requirement already satisfied: contourpy>=1.0.1 in /usr/local/lib/python3.8/dist-packages (from matplotlib<4->mlflow) (1.0.6)\n",
      "Requirement already satisfied: cycler>=0.10 in /usr/local/lib/python3.8/dist-packages (from matplotlib<4->mlflow) (0.11.0)\n",
      "Requirement already satisfied: fonttools>=4.22.0 in /usr/local/lib/python3.8/dist-packages (from matplotlib<4->mlflow) (4.37.1)\n",
      "Requirement already satisfied: kiwisolver>=1.0.1 in /usr/local/lib/python3.8/dist-packages (from matplotlib<4->mlflow) (1.4.4)\n",
      "Requirement already satisfied: pillow>=6.2.0 in /usr/local/lib/python3.8/dist-packages (from matplotlib<4->mlflow) (9.2.0)\n",
      "Requirement already satisfied: pyparsing>=2.2.1 in /usr/local/lib/python3.8/dist-packages (from matplotlib<4->mlflow) (3.0.9)\n",
      "Requirement already satisfied: python-dateutil>=2.7 in /usr/local/lib/python3.8/dist-packages (from matplotlib<4->mlflow) (2.8.2)\n",
      "Requirement already satisfied: charset-normalizer<4,>=2 in /usr/local/lib/python3.8/dist-packages (from requests<3,>=2.17.3->mlflow) (2.0.12)\n",
      "Requirement already satisfied: idna<4,>=2.5 in /usr/lib/python3/dist-packages (from requests<3,>=2.17.3->mlflow) (2.8)\n",
      "Requirement already satisfied: urllib3<3,>=1.21.1 in /usr/lib/python3/dist-packages (from requests<3,>=2.17.3->mlflow) (1.25.8)\n",
      "Requirement already satisfied: certifi>=2017.4.17 in /usr/lib/python3/dist-packages (from requests<3,>=2.17.3->mlflow) (2019.11.28)\n",
      "Requirement already satisfied: joblib>=1.1.1 in /usr/local/lib/python3.8/dist-packages (from scikit-learn<2->mlflow) (1.3.2)\n",
      "Requirement already satisfied: threadpoolctl>=2.0.0 in /usr/local/lib/python3.8/dist-packages (from scikit-learn<2->mlflow) (3.1.0)\n",
      "Requirement already satisfied: greenlet!=0.4.17 in /usr/local/lib/python3.8/dist-packages (from sqlalchemy<3,>=1.4.0->mlflow) (1.1.3)\n",
      "Requirement already satisfied: smmap<6,>=3.0.1 in /usr/local/lib/python3.8/dist-packages (from gitdb<5,>=4.0.1->gitpython<4,>=2.1.0->mlflow) (5.0.0)\n"
     ]
    }
   ],
   "source": [
    "# Run this cell to install mlflow\n",
    "!pip install mlflow"
   ]
  },
  {
   "cell_type": "code",
   "execution_count": 120,
   "id": "3976d816-6d2e-41b5-bd2f-3eac2729c5ce",
   "metadata": {
    "executionCancelledAt": null,
    "executionTime": 52,
    "lastExecutedAt": 1713709450354,
    "lastExecutedByKernel": "1de5700a-3bf2-4a3a-a17d-4556323fe991",
    "lastScheduledRunId": null,
    "lastSuccessfullyExecutedCode": "# Run this cell to import the modules you require\nimport pandas as pd\nimport numpy as np\nimport mlflow\nimport mlflow.sklearn\nimport matplotlib.pyplot as plt\nimport seaborn as sns\nfrom sklearn.model_selection import train_test_split\nfrom sklearn.metrics import mean_squared_error\nfrom sklearn.impute import SimpleImputer\nfrom sklearn.preprocessing import StandardScaler\nfrom sklearn.linear_model import LinearRegression\nfrom sklearn.tree import DecisionTreeRegressor\nfrom sklearn.ensemble import RandomForestRegressor\n\n### 1. Loading the data\n# Read in the data\nweather = pd.read_csv(\"london_weather.csv\")"
   },
   "outputs": [],
   "source": [
    "# Run this cell to import the modules you require\n",
    "import pandas as pd\n",
    "import numpy as np\n",
    "import mlflow\n",
    "import mlflow.sklearn\n",
    "import matplotlib.pyplot as plt\n",
    "import seaborn as sns\n",
    "from sklearn.model_selection import train_test_split\n",
    "from sklearn.metrics import mean_squared_error\n",
    "from sklearn.impute import SimpleImputer\n",
    "from sklearn.preprocessing import StandardScaler\n",
    "from sklearn.linear_model import LinearRegression\n",
    "from sklearn.tree import DecisionTreeRegressor\n",
    "from sklearn.ensemble import RandomForestRegressor\n",
    "\n",
    "### 1. Loading the data\n",
    "# Read in the data\n",
    "weather = pd.read_csv(\"london_weather.csv\")"
   ]
  },
  {
   "cell_type": "code",
   "execution_count": 121,
   "id": "d02dc319-375b-4ec0-b471-5c8ddfd3b029",
   "metadata": {
    "executionCancelledAt": null,
    "executionTime": 48,
    "lastExecutedAt": 1713709450402,
    "lastExecutedByKernel": "1de5700a-3bf2-4a3a-a17d-4556323fe991",
    "lastScheduledRunId": null,
    "lastSuccessfullyExecutedCode": "# Determine the column names, data types, number of non-null values\nprint(weather.info())",
    "outputsMetadata": {
     "0": {
      "height": 395,
      "type": "stream"
     }
    },
    "scrolled": true
   },
   "outputs": [
    {
     "name": "stdout",
     "output_type": "stream",
     "text": [
      "<class 'pandas.core.frame.DataFrame'>\n",
      "RangeIndex: 15341 entries, 0 to 15340\n",
      "Data columns (total 10 columns):\n",
      " #   Column            Non-Null Count  Dtype  \n",
      "---  ------            --------------  -----  \n",
      " 0   date              15341 non-null  int64  \n",
      " 1   cloud_cover       15322 non-null  float64\n",
      " 2   sunshine          15341 non-null  float64\n",
      " 3   global_radiation  15322 non-null  float64\n",
      " 4   max_temp          15335 non-null  float64\n",
      " 5   mean_temp         15305 non-null  float64\n",
      " 6   min_temp          15339 non-null  float64\n",
      " 7   precipitation     15335 non-null  float64\n",
      " 8   pressure          15337 non-null  float64\n",
      " 9   snow_depth        13900 non-null  float64\n",
      "dtypes: float64(9), int64(1)\n",
      "memory usage: 1.2 MB\n",
      "None\n"
     ]
    }
   ],
   "source": [
    "# Determine the column names, data types, number of non-null values\n",
    "print(weather.info())"
   ]
  },
  {
   "cell_type": "markdown",
   "id": "433a2fdf-f988-4d41-a40d-e0d1f24517a6",
   "metadata": {},
   "source": [
    "The dataset contains 15,341 entries spread across 10 columns, with 9 columns being of type `float64` and 1 column of type `int64`. Most columns have nearly complete data, but some have missing values. To determine the number of missing values, I compared the total entry count (15,341) with the non-null counts for each column.\n",
    "\n",
    "Here's the breakdown:\n",
    "- **\"cloud_cover\"** and **\"global_radiation\"** each have 19 missing values (15,341 total entries - 15,322 non-null).\n",
    "- **\"max_temp\"** and **\"precipitation\"** have 6 missing values each (15,341 total entries - 15,335 non-null).\n",
    "- **\"mean_temp\"** is missing 36 values (15,341 total entries - 15,305 non-null).\n",
    "- **\"min_temp\"** has 2 missing values (15,341 total entries - 15,339 non-null).\n",
    "- **\"pressure\"** is missing 4 values (15,341 total entries - 15,337 non-null).\n",
    "- **\"snow_depth\"** has the most missing data, with 1,441 missing values (15,341 total entries - 13,900 non-null).\n",
    "\n",
    "This detailed comparison reveals the extent of missing data in each column."
   ]
  },
  {
   "cell_type": "code",
   "execution_count": 122,
   "id": "e612eb06-176d-4eca-867f-106da1c3a72a",
   "metadata": {
    "executionCancelledAt": null,
    "executionTime": 52,
    "lastExecutedAt": 1713709450454,
    "lastExecutedByKernel": "1de5700a-3bf2-4a3a-a17d-4556323fe991",
    "lastScheduledRunId": null,
    "lastSuccessfullyExecutedCode": "### 2. Data cleaning\n# Convert columns to the correct data type to enable exploratory data analysis\nweather['date'] = pd.to_datetime(weather['date'])"
   },
   "outputs": [],
   "source": [
    "### 2. Data cleaning\n",
    "# Convert columns to the correct data type to enable exploratory data analysis\n",
    "weather['date'] = pd.to_datetime(weather['date'])"
   ]
  },
  {
   "cell_type": "code",
   "execution_count": 123,
   "id": "b1777a8b-3732-4d47-96a0-26d5aedc64eb",
   "metadata": {
    "executionCancelledAt": null,
    "executionTime": 52,
    "lastExecutedAt": 1713709450506,
    "lastExecutedByKernel": "1de5700a-3bf2-4a3a-a17d-4556323fe991",
    "lastScheduledRunId": null,
    "lastSuccessfullyExecutedCode": "# Working with the date column\n# Extracting more date information\nweather['year'] = weather['date'].dt.year\nweather['month'] = weather['date'].dt.month\nweather['day'] = weather['date'].dt.day\n"
   },
   "outputs": [],
   "source": [
    "# Working with the date column\n",
    "# Extracting more date information\n",
    "weather['year'] = weather['date'].dt.year\n",
    "weather['month'] = weather['date'].dt.month\n",
    "weather['day'] = weather['date'].dt.day\n"
   ]
  },
  {
   "cell_type": "code",
   "execution_count": 124,
   "id": "c4856cf4-ccf5-4497-b9cd-fb8878221dab",
   "metadata": {
    "executionCancelledAt": null,
    "executionTime": 388,
    "lastExecutedAt": 1713709450894,
    "lastExecutedByKernel": "1de5700a-3bf2-4a3a-a17d-4556323fe991",
    "lastScheduledRunId": null,
    "lastSuccessfullyExecutedCode": "### 3. Exploratory data analysis\n# Visualizing temperature\nplt.figure(figsize=(10, 6))\nsns.histplot(weather['mean_temp'], bins=30, kde=True)\nplt.title('Distribution of Mean Temperature')\nplt.xlabel('Mean Temperature (°C)')\nplt.ylabel('Frequency')\nplt.show()\n"
   },
   "outputs": [
    {
     "data": {
      "image/png": "[encoded data removed]",
      "text/plain": [
       "<Figure size 1000x600 with 1 Axes>"
      ]
     },
     "metadata": {},
     "output_type": "display_data"
    }
   ],
   "source": [
    "### 3. Exploratory data analysis\n",
    "# Visualizing temperature\n",
    "plt.figure(figsize=(10, 6))\n",
    "sns.histplot(weather['mean_temp'], bins=30, kde=True)\n",
    "plt.title('Distribution of Mean Temperature')\n",
    "plt.xlabel('Mean Temperature (°C)')\n",
    "plt.ylabel('Frequency')\n",
    "plt.show()\n"
   ]
  },
  {
   "cell_type": "code",
   "execution_count": 125,
   "id": "0daef64b-95f5-49bd-963d-563d88e8d65c",
   "metadata": {
    "executionCancelledAt": null,
    "executionTime": 48,
    "lastExecutedAt": 1713709450942,
    "lastExecutedByKernel": "1de5700a-3bf2-4a3a-a17d-4556323fe991",
    "lastScheduledRunId": null,
    "lastSuccessfullyExecutedCode": "### 4. Feature selection\n# Choose appropriate features to predict the mean temperature\n# Filter features\nselected_features = ['cloud_cover', 'sunshine', 'global_radiation', 'max_temp', 'min_temp', 'precipitation', 'pressure', 'snow_depth']\nX = weather[selected_features]\ny = weather['mean_temp']"
   },
   "outputs": [],
   "source": [
    "### 4. Feature selection\n",
    "# Choose appropriate features to predict the mean temperature\n",
    "# Filter features\n",
    "selected_features = ['cloud_cover', 'sunshine', 'global_radiation', 'max_temp', 'min_temp', 'precipitation', 'pressure', 'snow_depth']\n",
    "X = weather[selected_features]\n",
    "y = weather['mean_temp']"
   ]
  },
  {
   "cell_type": "code",
   "execution_count": 126,
   "id": "6554b403-17bc-4204-bbab-6467bec2b6b8",
   "metadata": {
    "executionCancelledAt": null,
    "executionTime": 52,
    "lastExecutedAt": 1713709450994,
    "lastExecutedByKernel": "1de5700a-3bf2-4a3a-a17d-4556323fe991",
    "lastScheduledRunId": null,
    "lastSuccessfullyExecutedCode": "### 5. Preprocess data\n# Use an imputer to account for missing values\nimputer = SimpleImputer(strategy='mean')\nX_imputed = imputer.fit_transform(X)\n\n# Normalize the features using the scaler\nscaler = StandardScaler()\nX_scaled = scaler.fit_transform(X_imputed)\n\n# Split the data into train and test samples\nX_train, X_test, y_train, y_test = train_test_split(X_scaled, y, test_size=0.2, random_state=42)\n\n\n"
   },
   "outputs": [],
   "source": [
    "### 5. Preprocess data\n",
    "# Use an imputer to account for missing values\n",
    "imputer = SimpleImputer(strategy='mean')\n",
    "X_imputed = imputer.fit_transform(X)\n",
    "\n",
    "# Normalize the features using the scaler\n",
    "scaler = StandardScaler()\n",
    "X_scaled = scaler.fit_transform(X_imputed)\n",
    "\n",
    "# Split the data into train and test samples\n",
    "X_train, X_test, y_train, y_test = train_test_split(X_scaled, y, test_size=0.2, random_state=42)\n",
    "\n",
    "\n"
   ]
  },
  {
   "cell_type": "code",
   "execution_count": 127,
   "id": "136bb7c3-02e4-46ab-a66b-aa81280b6192",
   "metadata": {
    "executionCancelledAt": null,
    "executionTime": 75,
    "lastExecutedAt": 1713709451069,
    "lastExecutedByKernel": "1de5700a-3bf2-4a3a-a17d-4556323fe991",
    "lastScheduledRunId": null,
    "lastSuccessfullyExecutedCode": "### 6. Machine learning training and evaluation\n# Initialize MLflow\nmlflow.set_tracking_uri('mlruns')\nmlflow.sklearn.autolog()\n",
    "outputsMetadata": {
     "0": {
      "height": 80,
      "type": "stream"
     }
    }
   },
   "outputs": [],
   "source": [
    "### 6. Machine learning training and evaluation\n",
    "# Initialize MLflow\n",
    "mlflow.set_tracking_uri('mlruns')\n",
    "mlflow.sklearn.autolog()\n"
   ]
  },
  {
   "cell_type": "code",
   "execution_count": 128,
   "id": "7b2cf0f8-04e9-49d0-8ab6-d628cfd5319b",
   "metadata": {
    "executionCancelledAt": null,
    "executionTime": 48,
    "lastExecutedAt": 1713709451118,
    "lastExecutedByKernel": "1de5700a-3bf2-4a3a-a17d-4556323fe991",
    "lastScheduledRunId": null,
    "lastSuccessfullyExecutedCode": "# Regression models to try\nmodels = {\n    \"Linear Regression\": LinearRegression(),\n    \"Decision Tree Regressor\": DecisionTreeRegressor(),\n    \"Random Forest Regressor\": RandomForestRegressor()\n}\n",
    "outputsMetadata": {
     "0": {
      "height": 80,
      "type": "stream"
     }
    }
   },
   "outputs": [],
   "source": [
    "# Regression models to try\n",
    "models = {\n",
    "    \"Linear Regression\": LinearRegression(),\n",
    "    \"Decision Tree Regressor\": DecisionTreeRegressor(),\n",
    "    \"Random Forest Regressor\": RandomForestRegressor()\n",
    "}\n"
   ]
  },
  {
   "cell_type": "code",
   "execution_count": 129,
   "id": "c5ef7496-0d2a-4169-b1fe-4795ee3dfe92",
   "metadata": {
    "executionCancelledAt": null,
    "executionTime": 48,
    "lastExecutedAt": 1713709451166,
    "lastExecutedByKernel": "1de5700a-3bf2-4a3a-a17d-4556323fe991",
    "lastScheduledRunId": null,
    "lastSuccessfullyExecutedCode": "# Logging and evaluating\nexperiment_results = []\n"
   },
   "outputs": [],
   "source": [
    "# Logging and evaluating\n",
    "experiment_results = []\n"
   ]
  },
  {
   "cell_type": "code",
   "execution_count": 130,
   "id": "252e7d0d-3c3a-4724-b74d-81641c19231d",
   "metadata": {
    "executionCancelledAt": null,
    "executionTime": 56,
    "lastExecutedAt": 1713709451222,
    "lastExecutedByKernel": "1de5700a-3bf2-4a3a-a17d-4556323fe991",
    "lastScheduledRunId": null,
    "lastSuccessfullyExecutedCode": "# Define a pipeline for preprocessing the target variable\ntarget_imputer = SimpleImputer(strategy='mean')\n\n# Fit the imputer on training data and transform both train and test data\ny_train_imputed = target_imputer.fit_transform(y_train.values.reshape(-1, 1)).flatten()\ny_test_imputed = target_imputer.transform(y_test.values.reshape(-1, 1)).flatten()",
    "outputsMetadata": {
     "0": {
      "height": 80,
      "type": "stream"
     }
    }
   },
   "outputs": [],
   "source": [
    "# Define a pipeline for preprocessing the target variable\n",
    "target_imputer = SimpleImputer(strategy='mean')\n",
    "\n",
    "# Fit the imputer on training data and transform both train and test data\n",
    "y_train_imputed = target_imputer.fit_transform(y_train.values.reshape(-1, 1)).flatten()\n",
    "y_test_imputed = target_imputer.transform(y_test.values.reshape(-1, 1)).flatten()"
   ]
  },
  {
   "cell_type": "code",
   "execution_count": 131,
   "id": "25ae8ccf-455f-4fd9-9e99-0a9f7ec35c04",
   "metadata": {
    "executionCancelledAt": null,
    "executionTime": 21217,
    "lastExecutedAt": 1713709472441,
    "lastExecutedByKernel": "1de5700a-3bf2-4a3a-a17d-4556323fe991",
    "lastScheduledRunId": null,
    "lastSuccessfullyExecutedCode": "for model_name, model in models.items():\n    with mlflow.start_run(run_name=model_name):\n        # Train the model\n        model.fit(X_train, y_train_imputed)\n        \n        # Make predictions\n        y_pred = model.predict(X_test)\n        \n        # Calculate RMSE\n        rmse = np.sqrt(mean_squared_error(y_test_imputed, y_pred))\n        \n        # Log metrics\n        mlflow.log_metric(\"rmse\", rmse)\n        \n        # Log model\n        mlflow.sklearn.log_model(model, model_name)\n        \n        # Append results\n        experiment_results.append({\"model\": model_name, \"rmse\": rmse})"
   },
   "outputs": [],
   "source": [
    "for model_name, model in models.items():\n",
    "    with mlflow.start_run(run_name=model_name):\n",
    "        # Train the model\n",
    "        model.fit(X_train, y_train_imputed)\n",
    "        \n",
    "        # Make predictions\n",
    "        y_pred = model.predict(X_test)\n",
    "        \n",
    "        # Calculate RMSE\n",
    "        rmse = np.sqrt(mean_squared_error(y_test_imputed, y_pred))\n",
    "        \n",
    "        # Log metrics\n",
    "        mlflow.log_metric(\"rmse\", rmse)\n",
    "        \n",
    "        # Log model\n",
    "        mlflow.sklearn.log_model(model, model_name)\n",
    "        \n",
    "        # Append results\n",
    "        experiment_results.append({\"model\": model_name, \"rmse\": rmse})"
   ]
  },
  {
   "cell_type": "code",
   "execution_count": 132,
   "id": "ee572d51-3770-4069-927f-fc63c261603b",
   "metadata": {
    "executionCancelledAt": null,
    "executionTime": 51,
    "lastExecutedAt": 1713709472494,
    "lastExecutedByKernel": "1de5700a-3bf2-4a3a-a17d-4556323fe991",
    "lastScheduledRunId": null,
    "lastSuccessfullyExecutedCode": "# Fetch all logged data relating to MLflow runs\nexperiment_results = pd.DataFrame(experiment_results)\nprint(experiment_results)\n",
    "outputsMetadata": {
     "0": {
      "height": 101,
      "type": "stream"
     }
    },
    "scrolled": true
   },
   "outputs": [
    {
     "name": "stdout",
     "output_type": "stream",
     "text": [
      "                     model      rmse\n",
      "0        Linear Regression  0.916556\n",
      "1  Decision Tree Regressor  1.266199\n",
      "2  Random Forest Regressor  0.918886\n"
     ]
    }
   ],
   "source": [
    "# Fetch all logged data relating to MLflow runs\n",
    "experiment_results = pd.DataFrame(experiment_results)\n",
    "print(experiment_results)\n"
   ]
  },
  {
   "cell_type": "markdown",
   "id": "44f7cbb0-310b-4766-8c57-6842ae814472",
   "metadata": {},
   "source": [
    "The experiment results show the performance of three different regression models evaluated using Root Mean Squared Error (RMSE). The **Linear Regression** model has the lowest RMSE of **0.9166**, indicating the best predictive accuracy among the models tested. The **Random Forest Regressor** follows closely with an RMSE of **0.9189**. In contrast, the **Decision Tree Regressor** has the highest RMSE at **1.2662**, suggesting it is the least accurate model of the three."
   ]
  }
 ],
 "metadata": {
  "colab": {
   "name": "Welcome to DataCamp Workspaces.ipynb",
   "provenance": []
  },
  "kernelspec": {
   "display_name": "Python 3 (ipykernel)",
   "language": "python",
   "name": "python3"
  },
  "language_info": {
   "codemirror_mode": {
    "name": "ipython",
    "version": 3
   },
   "file_extension": ".py",
   "mimetype": "text/x-python",
   "name": "python",
   "nbconvert_exporter": "python",
   "pygments_lexer": "ipython3",
   "version": "3.10.13"
  }
 },
 "nbformat": 4,
 "nbformat_minor": 5
}
